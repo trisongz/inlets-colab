{
  "nbformat": 4,
  "nbformat_minor": 0,
  "metadata": {
    "colab": {
      "name": "Inlets Colab - Public Demo",
      "provenance": [],
      "collapsed_sections": [],
      "authorship_tag": "ABX9TyNaklyJx0N7/xgL9pq4xtSb",
      "include_colab_link": true
    },
    "kernelspec": {
      "name": "python3",
      "display_name": "Python 3"
    },
    "language_info": {
      "name": "python"
    }
  },
  "cells": [
    {
      "cell_type": "markdown",
      "metadata": {
        "id": "view-in-github",
        "colab_type": "text"
      },
      "source": [
        "<a href=\"https://colab.research.google.com/github/trisongz/inlets-colab/blob/main/examples/colab_example.ipynb\" target=\"_parent\"><img src=\"https://colab.research.google.com/assets/colab-badge.svg\" alt=\"Open In Colab\"/></a>"
      ]
    },
    {
      "cell_type": "code",
      "execution_count": null,
      "metadata": {
        "id": "QH9QkOhMsc6R"
      },
      "outputs": [],
      "source": [
        "#@title **[Inlets Colab - Public Demo](https://github.com/trisongz/inlets-colab)**\n",
        "\n",
        "#@markdown <sup> Copyright 2021 [Growth Engine Inc](https://growthengineai.com) / [@trisongz](https://github.com/trisongz)</sup>\n",
        "\n",
        "#@markdown Run this cell to access [Code Server](https://coder.com/) on your browser powered by Google Colab.\n",
        "\n",
        "#@markdown **This library requires [Inlets](https://inlets.dev) and assumes you have an Inlet Server already setup and running**\n",
        "\n",
        "## Install from Latest\n",
        "!pip install --upgrade -q git+https://github.com/trisongz/inlets-colab &> /dev/null\n",
        "\n",
        "#@markdown   \\\n",
        "#@markdown ### **Inlets Configuration**\n",
        "\n",
        "INLETS_LICENSE = \"...\" #@param {type: \"string\"}\n",
        "INLETS_TOKEN = \"...\" #@param {type: \"string\"}\n",
        "INLETS_TUNNEL_HOST = \"inlets.domain.com\" #@param {type: \"string\"}\n",
        "INLETS_SERVER_HOST = \"colab.domain.com\" #@param {type: \"string\"}\n",
        "INLETS_SERVER_PORT = \"8123\" #@param {type: \"string\"}\n",
        "INLETS_CLIENT_HOST = \"127.0.0.1\" #@param {type: \"string\"}\n",
        "INLETS_CLIENT_PORT = \"7070\" #@param {type: \"string\"}\n",
        "INLETS_DOMAIN = \"colab.domain.com\" #@param {type: \"string\"}\n",
        "#@markdown If Inlets is within a Kubernetes Cluster, than `INLETS_IN_CLUSTER` should be True. \n",
        "INLETS_IN_CLUSTER = True #@param {type: \"boolean\"}\n",
        "\n",
        "#@markdown   \\\n",
        "#@markdown ### **Server Configuration**\n",
        "#@markdown If `SERVER_PASSWORD` is empty and `GENERATE_AUTH = True`, then a password will be generated. Otherwise, your Inlets URL will be publicly available. \n",
        "SERVER_PASSWORD = \"...\" #@param {type: \"string\"}\n",
        "GENERATE_AUTH = True #@param {type: \"boolean\"}\n",
        "\n",
        "#@markdown   \\\n",
        "#@markdown ### **Cloud Auth Configuration**\n",
        "#@markdown If intending to mount any Cloud Storage, than the provider must be configured\n",
        "\n",
        "GCP_PROJECT = \"...\" #@param {type: \"string\"}\n",
        "\n",
        "#@markdown `GCP_AUTH` should be a `Base64` encoded version of your ServiceAccount.json. \\\n",
        "#@markdown You can do this with `base64 -i /path/to/serviceaccount.json`\n",
        "\n",
        "GCP_AUTH = \"...\" #@param {type: \"string\"}\n",
        "\n",
        "#@markdown   \\\n",
        "#@markdown ### **Storage Configuration**\n",
        "\n",
        "#@markdown Mount Google Drive to the path `/content/drive`\n",
        "MOUNT_GDRIVE = False #@param {type:\"boolean\"}\n",
        "\n",
        "#@markdown Mount Google Cloud Storage to the path `/content/gs`\n",
        "MOUNT_GOOGLE_STORAGE = False #@param {type: \"boolean\"}\n",
        "\n",
        "#@markdown The name of your GCS Bucket. Leave out `gs://`.  \\ \n",
        "#@markdown i.e. `gs://mybucket` -> `mybucket`\n",
        "\n",
        "GOOGLE_STORAGE_BUCKET = \"...\" #@param {type: \"string\"}\n",
        "\n",
        "\n",
        "import os\n",
        "\n",
        "os.environ['INLETS_LICENSE'] = '' if INLETS_LICENSE == '...' else INLETS_LICENSE\n",
        "os.environ['INLETS_TOKEN'] = '' if INLETS_TOKEN == '...' else INLETS_TOKEN\n",
        "os.environ['INLETS_TUNNEL_HOST'] = INLETS_TUNNEL_HOST # Inlets Tunnel Host (ControlPlane)\n",
        "\n",
        "os.environ['INLETS_SERVER_HOST'] = INLETS_SERVER_HOST # Inlets Tunnel Host (DataPlane)\n",
        "os.environ['INLETS_SERVER_PORT'] = INLETS_SERVER_PORT # Inlets Tunnel Port (DataPlane)\n",
        "\n",
        "os.environ['INLETS_CLIENT_HOST'] = INLETS_CLIENT_HOST # The Local Server IP\n",
        "os.environ['INLETS_CLIENT_PORT'] = INLETS_CLIENT_PORT # The Local Server Port\n",
        "\n",
        "os.environ['SERVER_PASSWORD'] = '' if SERVER_PASSWORD == '...' else SERVER_PASSWORD\n",
        "os.environ['GENERATE_AUTH'] = str(GENERATE_AUTH).lower() # Will generate password if not provided\n",
        "os.environ['MOUNT_GDRIVE'] = str(MOUNT_GDRIVE).lower() # Bool to mount GDrive\n",
        "os.environ['MOUNT_GS'] = str(MOUNT_GOOGLE_STORAGE).lower() # Bool to mount GCS Bucket\n",
        "os.environ['GS_BUCKET'] = '' if GOOGLE_STORAGE_BUCKET == '...' else GOOGLE_STORAGE_BUCKET # Name of GCS Bucket to Mount\n",
        "os.environ['GS_PROJECT'] = '' if GCP_PROJECT == '...' else GCP_PROJECT # Project Name within GCP\n",
        "os.environ['GS_AUTH'] = '' if GCP_AUTH == '...' else GCP_AUTH # Base64 Encoded String of your ServiceAccount.json\n",
        "\n",
        "#@markdown   \\\n",
        "\n",
        "## Start InletsColab\n",
        "from inletscolab.client import InletsColab\n",
        "\n",
        "InletsColab.start()\n"
      ]
    }
  ]
}